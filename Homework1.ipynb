{
  "nbformat": 4,
  "nbformat_minor": 0,
  "metadata": {
    "colab": {
      "provenance": [],
      "authorship_tag": "ABX9TyPgM5LKJ3aAPuG3Rh96n4tO",
      "include_colab_link": true
    },
    "kernelspec": {
      "name": "python3",
      "display_name": "Python 3"
    },
    "language_info": {
      "name": "python"
    }
  },
  "cells": [
    {
      "cell_type": "markdown",
      "metadata": {
        "id": "view-in-github",
        "colab_type": "text"
      },
      "source": [
        "<a href=\"https://colab.research.google.com/github/S4M23/tkinter-registry/blob/master/Homework1.ipynb\" target=\"_parent\"><img src=\"https://colab.research.google.com/assets/colab-badge.svg\" alt=\"Open In Colab\"/></a>"
      ]
    },
    {
      "cell_type": "code",
      "execution_count": null,
      "metadata": {
        "colab": {
          "base_uri": "https://localhost:8080/"
        },
        "id": "IlUlH6gLBwWt",
        "outputId": "ab85ee26-09f4-448a-8341-9945c892e0b1"
      },
      "outputs": [
        {
          "output_type": "stream",
          "name": "stdout",
          "text": [
            "Number of Carbon-14 atoms after 1000 years: 2.30e+10\n"
          ]
        }
      ],
      "source": [
        "import math\n",
        "\n",
        "decay = 3.8384e-12  # decay constant in s^-1\n",
        "N0 = 5.2e10  # initial number of atoms\n",
        "years = 1000  # time in years\n",
        "\n",
        "seconds_per_year = 60 * 60 * 24 * 365.25\n",
        "time_seconds = years * seconds_per_year\n",
        "\n",
        "\n",
        "N_t = N0 * math.exp(-decay * time_seconds)\n",
        "\n",
        "print(f\"Number of Carbon-14 atoms after {years} years: {N_t:.2e}\")"
      ]
    },
    {
      "cell_type": "code",
      "source": [
        "import math\n",
        "decay = 3.8384e-12  # decay constant in s^-1\n",
        "\n",
        "half_life_seconds = math.log(2) / decay\n",
        "\n",
        "seconds_per_year = 60 * 60 * 24 * 365.25\n",
        "half_life_years = half_life_seconds / seconds_per_year\n",
        "print(f\"Half-life of Carbon-14:\")\n",
        "print(f\"In seconds: {half_life_seconds:.2e} s\")\n",
        "print(f\"In years: {half_life_years:.2e} years\")"
      ],
      "metadata": {
        "colab": {
          "base_uri": "https://localhost:8080/"
        },
        "id": "R44N5avUCtCe",
        "outputId": "4e0fd58d-ad62-4bc8-f5f1-52fc240e43e5"
      },
      "execution_count": null,
      "outputs": [
        {
          "output_type": "stream",
          "name": "stdout",
          "text": [
            "Half-life of Carbon-14:\n",
            "In seconds: 1.81e+11 s\n",
            "In years: 5.72e+03 years\n"
          ]
        }
      ]
    },
    {
      "cell_type": "code",
      "source": [
        "import math\n",
        "from scipy.integrate import quad\n",
        "\n",
        "def integrand(t):\n",
        "    return 2 * math.exp(t)\n",
        "\n",
        "a = -math.pi\n",
        "b = math.pi\n",
        "\n",
        "L, _ = quad(integrand, a, b)\n",
        "\n",
        "print(f\"Arc length of the curve: {L:.2f}\")"
      ],
      "metadata": {
        "colab": {
          "base_uri": "https://localhost:8080/"
        },
        "id": "e9wCXYjgF2yM",
        "outputId": "a8ebb20d-323d-4059-bb94-d453a14d86f3"
      },
      "execution_count": null,
      "outputs": [
        {
          "output_type": "stream",
          "name": "stdout",
          "text": [
            "Arc length of the curve: 46.19\n"
          ]
        }
      ]
    }
  ]
}